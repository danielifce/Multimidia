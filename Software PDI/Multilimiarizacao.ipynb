{
 "cells": [
  {
   "cell_type": "markdown",
   "metadata": {},
   "source": [
    "# Multilimiarização\n",
    "#Daniel Anderson de Souza Leite\n",
    "#Engenharia de Telecomunicações - IFCE\n",
    "#Sistemas Multimídia\n",
    "#Prof. Dr. Pedrosa"
   ]
  },
  {
   "cell_type": "markdown",
   "metadata": {},
   "source": [
    "# Bibliotecas "
   ]
  },
  {
   "cell_type": "code",
   "execution_count": 1,
   "metadata": {},
   "outputs": [],
   "source": [
    "import cv2 #OpenCV\n",
    "import numpy as np #biblioteca para trabalhar com arrays de maneira eficiente\n",
    "import matplotlib.pyplot as plt # biblioteca para plotar gráficos"
   ]
  },
  {
   "cell_type": "markdown",
   "metadata": {},
   "source": [
    "# Leitura"
   ]
  },
  {
   "cell_type": "code",
   "execution_count": 2,
   "metadata": {},
   "outputs": [
    {
     "name": "stdout",
     "output_type": "stream",
     "text": [
      "Tamanho da imagem\n"
     ]
    },
    {
     "data": {
      "text/plain": [
       "(375, 600)"
      ]
     },
     "execution_count": 2,
     "metadata": {},
     "output_type": "execute_result"
    }
   ],
   "source": [
    "img = cv2.imread('C:/Users/danie/Desktop/Scripsts Python/figs/mountain-small.png', cv2.IMREAD_GRAYSCALE)\n",
    "\n",
    "#Mostra o tamanho da imagem\n",
    "print(\"Tamanho da imagem\")\n",
    "np.shape(img)"
   ]
  },
  {
   "cell_type": "markdown",
   "metadata": {},
   "source": [
    "# Imagem de saída"
   ]
  },
  {
   "cell_type": "code",
   "execution_count": 3,
   "metadata": {},
   "outputs": [
    {
     "name": "stdout",
     "output_type": "stream",
     "text": [
      "Tamanho da imagem:\n"
     ]
    },
    {
     "data": {
      "text/plain": [
       "(375, 600)"
      ]
     },
     "execution_count": 3,
     "metadata": {},
     "output_type": "execute_result"
    }
   ],
   "source": [
    "#Recebe o tamanho da imagem original\n",
    "(c,d)=np.shape(img)\n",
    "\n",
    "#Cria uma matriz de zeros do mesmo tamanho da img original\n",
    "imgout=np.zeros((c,d), dtype=np.uint8)\n",
    "\n",
    "\n",
    "#Tamanho da imagem de saída\n",
    "print(\"Tamanho da imagem:\")\n",
    "np.shape(imgout)"
   ]
  },
  {
   "cell_type": "markdown",
   "metadata": {},
   "source": [
    "# Histograma para melhor ajuste de limiar"
   ]
  },
  {
   "cell_type": "code",
   "execution_count": 4,
   "metadata": {},
   "outputs": [
    {
     "data": {
      "image/png": "[encoded data removed]",
      "text/plain": [
       "<Figure size 432x288 with 1 Axes>"
      ]
     },
     "metadata": {
      "needs_background": "light"
     },
     "output_type": "display_data"
    }
   ],
   "source": [
    "#Histogram pela np\n",
    "plt.hist(img, bins='auto')\n",
    "plt.title(\"Histogram with 'auto' bins\")\n",
    "plt.show()"
   ]
  },
  {
   "cell_type": "markdown",
   "metadata": {},
   "source": [
    "# Processamento - Limiarização"
   ]
  },
  {
   "cell_type": "code",
   "execution_count": 12,
   "metadata": {},
   "outputs": [],
   "source": [
    "#Varre a imagem ampliada aplicando o limiar\n",
    "limiar_a=122\n",
    "limiar_b=220\n",
    "\n",
    "alfa=0\n",
    "beta=128\n",
    "gama=255\n",
    "\n",
    "#Varre a imagem\n",
    "for x in range(c):\n",
    "    for y in range(d):\n",
    "        if img[x][y] > limiar_a and img[x][y] < limiar_b:\n",
    "            imgout[x][y] = beta\n",
    "            \n",
    "        if img[x][y] <= limiar_a:\n",
    "            imgout[x][y] = alfa  \n",
    "            \n",
    "        if img[x][y] >= limiar_b:\n",
    "            imgout[x][y] = gama"
   ]
  },
  {
   "cell_type": "code",
   "execution_count": 6,
   "metadata": {},
   "outputs": [
    {
     "name": "stdout",
     "output_type": "stream",
     "text": [
      "\n",
      "Pixels intensity da imagem de saída\n",
      "Max value: 255\n",
      "Min value: 0\n",
      "\n",
      "\n",
      "\n",
      "Matriz da imagem de saída:\n",
      "[[255 255 255 ... 255 255 255]\n",
      " [255 255 255 ... 255 255 255]\n",
      " [255 255 255 ... 255 255 255]\n",
      " ...\n",
      " [255 255 255 ... 128 128 128]\n",
      " [255 255 255 ... 128 128 128]\n",
      " [255 255 255 ... 128 128 128]]\n"
     ]
    }
   ],
   "source": [
    "# Pixels intensity da imagem de saída\n",
    "print('\\n'+\"Pixels intensity da imagem de saída\")\n",
    "print('Max value: {}'.format(imgout.max()))\n",
    "print('Min value: {}'.format(imgout.min()) +'\\n')\n",
    "\n",
    "\n",
    "#Mostra parcialmente a imagem de saída\n",
    "print('\\n'+'\\n'+\"Matriz da imagem de saída:\")\n",
    "print(imgout)"
   ]
  },
  {
   "cell_type": "markdown",
   "metadata": {},
   "source": [
    "# Imagem de entrada para comparação"
   ]
  },
  {
   "cell_type": "code",
   "execution_count": 7,
   "metadata": {},
   "outputs": [
    {
     "name": "stdout",
     "output_type": "stream",
     "text": [
      "\n",
      "Pixels intensity da imagem de entrada\n",
      "Max value: 255\n",
      "Min value: 24\n",
      "\n",
      "Matriz da imagem de entrada:\n",
      "[[212 212 212 ... 212 212 212]\n",
      " [212 212 212 ... 212 212 212]\n",
      " [212 212 212 ... 212 212 212]\n",
      " ...\n",
      " [151 151 151 ... 135 135 135]\n",
      " [151 151 151 ... 135 135 135]\n",
      " [151 151 151 ... 135 135 135]]\n"
     ]
    }
   ],
   "source": [
    "# Pixels intensity da imagem original\n",
    "print('\\n'+\"Pixels intensity da imagem de entrada\")\n",
    "print('Max value: {}'.format(img.max()))\n",
    "print('Min value: {}'.format(img.min())+'\\n')\n",
    "\n",
    "#Mostra parcialmente a imagem original para fins de comparação\n",
    "print(\"Matriz da imagem de entrada:\")\n",
    "print(img)"
   ]
  },
  {
   "cell_type": "markdown",
   "metadata": {},
   "source": [
    "# Exibição pela matplotlib.pyplot"
   ]
  },
  {
   "cell_type": "code",
   "execution_count": 13,
   "metadata": {},
   "outputs": [
    {
     "data": {
      "image/png": "[encoded data removed]",
      "text/plain": [
       "<Figure size 1080x1080 with 2 Axes>"
      ]
     },
     "metadata": {
      "needs_background": "light"
     },
     "output_type": "display_data"
    }
   ],
   "source": [
    "########## Using matplotlib #################\n",
    "\n",
    "plt.figure(1, [15, 15])\n",
    "plt.subplot(121), plt.imshow(img, vmin=0, vmax=255, cmap='gray')\n",
    "plt.subplot(121).set_title('Imagem original')\n",
    "plt.subplot(122), plt.imshow(imgout, vmin=0, vmax=255, cmap='gray')\n",
    "plt.subplot(122).set_title('Imagem Limiarizada')\n",
    "\n",
    "plt.show()"
   ]
  },
  {
   "cell_type": "markdown",
   "metadata": {},
   "source": [
    "# Exibição pela Open CV"
   ]
  },
  {
   "cell_type": "code",
   "execution_count": 115,
   "metadata": {},
   "outputs": [],
   "source": [
    "# Exibe a imagem de saída pela opencv em uma janela\n",
    "cv2.imshow(\"Imagem\", imgout)\n",
    "cv2.waitKey(0)\n",
    "cv2.destroyAllWindows()\n"
   ]
  },
  {
   "cell_type": "code",
   "execution_count": 116,
   "metadata": {},
   "outputs": [
    {
     "data": {
      "text/plain": [
       "-1"
      ]
     },
     "execution_count": 116,
     "metadata": {},
     "output_type": "execute_result"
    }
   ],
   "source": [
    "# Exibe a imagem de entrada pela opencv em uma janela\n",
    "cv2.imshow(\"Imagem\", img)\n",
    "cv2.waitKey(0)"
   ]
  },
  {
   "cell_type": "markdown",
   "metadata": {},
   "source": [
    "# Histograma"
   ]
  },
  {
   "cell_type": "code",
   "execution_count": 10,
   "metadata": {},
   "outputs": [
    {
     "name": "stdout",
     "output_type": "stream",
     "text": [
      "Histograma Limiarizada:\n"
     ]
    },
    {
     "data": {
      "text/plain": [
       "<StemContainer object of 3 artists>"
      ]
     },
     "execution_count": 10,
     "metadata": {},
     "output_type": "execute_result"
    },
    {
     "data": {
      "image/png": "[encoded data removed]",
      "text/plain": [
       "<Figure size 432x288 with 1 Axes>"
      ]
     },
     "metadata": {
      "needs_background": "light"
     },
     "output_type": "display_data"
    }
   ],
   "source": [
    "# Using opencv\n",
    "# Mostra o histograma da imagem de saída\n",
    "hist = cv2.calcHist([imgout], [0], None, [256], [0,256])\n",
    "hist = hist.reshape((hist.shape[0],))\n",
    "print(\"Histograma Limiarizada:\")\n",
    "plt.stem(hist)"
   ]
  },
  {
   "cell_type": "code",
   "execution_count": 11,
   "metadata": {},
   "outputs": [
    {
     "name": "stdout",
     "output_type": "stream",
     "text": [
      "Histograma da imagem original:\n"
     ]
    },
    {
     "data": {
      "text/plain": [
       "<StemContainer object of 3 artists>"
      ]
     },
     "execution_count": 11,
     "metadata": {},
     "output_type": "execute_result"
    },
    {
     "data": {
      "image/png": "[encoded data removed]",
      "text/plain": [
       "<Figure size 432x288 with 1 Axes>"
      ]
     },
     "metadata": {
      "needs_background": "light"
     },
     "output_type": "display_data"
    }
   ],
   "source": [
    "# Mostra o histograma da imagem original\n",
    "hist = cv2.calcHist([img], [0], None, [256], [0,256])\n",
    "hist = hist.reshape((hist.shape[0],))\n",
    "print(\"Histograma da imagem original:\")\n",
    "plt.stem(hist)"
   ]
  },
  {
   "cell_type": "markdown",
   "metadata": {},
   "source": [
    "# Savar a imagem processada"
   ]
  },
  {
   "cell_type": "code",
   "execution_count": 127,
   "metadata": {},
   "outputs": [
    {
     "data": {
      "text/plain": [
       "True"
      ]
     },
     "execution_count": 127,
     "metadata": {},
     "output_type": "execute_result"
    }
   ],
   "source": [
    "\n",
    "cv2.imwrite('C:/Users/danie/Desktop/Scripsts Python/figs/Arquivos processados/multilimiar.png', imgout)"
   ]
  },
  {
   "cell_type": "code",
   "execution_count": null,
   "metadata": {},
   "outputs": [],
   "source": []
  }
 ],
 "metadata": {
  "kernelspec": {
   "display_name": "Python 3",
   "language": "python",
   "name": "python3"
  },
  "language_info": {
   "codemirror_mode": {
    "name": "ipython",
    "version": 3
   },
   "file_extension": ".py",
   "mimetype": "text/x-python",
   "name": "python",
   "nbconvert_exporter": "python",
   "pygments_lexer": "ipython3",
   "version": "3.7.1"
  }
 },
 "nbformat": 4,
 "nbformat_minor": 2
}
